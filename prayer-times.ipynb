{
 "metadata": {
  "language_info": {
   "codemirror_mode": {
    "name": "ipython",
    "version": 3
   },
   "file_extension": ".py",
   "mimetype": "text/x-python",
   "name": "python",
   "nbconvert_exporter": "python",
   "pygments_lexer": "ipython3",
   "version": "3.9.0-final"
  },
  "orig_nbformat": 2,
  "kernelspec": {
   "name": "python390jvsc74a57bd07812ea015bdcee6f23a998adcdd2ef97c151c0c241b7b7070987d9313e41299d",
   "display_name": "Python 3.9.0 64-bit"
  },
  "metadata": {
   "interpreter": {
    "hash": "7812ea015bdcee6f23a998adcdd2ef97c151c0c241b7b7070987d9313e41299d"
   }
  }
 },
 "nbformat": 4,
 "nbformat_minor": 2,
 "cells": [
  {
   "cell_type": "code",
   "execution_count": 1,
   "metadata": {},
   "outputs": [],
   "source": [
    "from helpers import get_prayer_time, get_london_break_fast_time"
   ]
  },
  {
   "cell_type": "code",
   "execution_count": 2,
   "metadata": {},
   "outputs": [],
   "source": [
    "mecca_url = 'https://www.muslimpro.com/en/find?country_code=SA&country_name=Saudi%20Arabia&city_name=Mecca&coordinates=21.3890824,39.8579118'\n",
    "london_url = 'https://www.muslimpro.com/en/find?country_code=GB&country_name=United%20Kingdom&city_name=London&coordinates=51.5073509,-0.1277583'"
   ]
  },
  {
   "cell_type": "code",
   "execution_count": 5,
   "metadata": {},
   "outputs": [
    {
     "output_type": "execute_result",
     "data": {
      "text/plain": [
       "        date  subuh maghrib break (early)\n",
       "0  Thu 1 Apr  05:02   19:36         18:41\n",
       "1  Fri 2 Apr  05:00   19:38         18:40\n",
       "2  Sat 3 Apr  04:57   19:40         18:39\n",
       "3  Sun 4 Apr  04:55   19:41         18:38\n",
       "4  Mon 5 Apr  04:53   19:43         18:37"
      ],
      "text/html": "<div>\n<style scoped>\n    .dataframe tbody tr th:only-of-type {\n        vertical-align: middle;\n    }\n\n    .dataframe tbody tr th {\n        vertical-align: top;\n    }\n\n    .dataframe thead th {\n        text-align: right;\n    }\n</style>\n<table border=\"1\" class=\"dataframe\">\n  <thead>\n    <tr style=\"text-align: right;\">\n      <th></th>\n      <th>date</th>\n      <th>subuh</th>\n      <th>maghrib</th>\n      <th>break (early)</th>\n    </tr>\n  </thead>\n  <tbody>\n    <tr>\n      <th>0</th>\n      <td>Thu 1 Apr</td>\n      <td>05:02</td>\n      <td>19:36</td>\n      <td>18:41</td>\n    </tr>\n    <tr>\n      <th>1</th>\n      <td>Fri 2 Apr</td>\n      <td>05:00</td>\n      <td>19:38</td>\n      <td>18:40</td>\n    </tr>\n    <tr>\n      <th>2</th>\n      <td>Sat 3 Apr</td>\n      <td>04:57</td>\n      <td>19:40</td>\n      <td>18:39</td>\n    </tr>\n    <tr>\n      <th>3</th>\n      <td>Sun 4 Apr</td>\n      <td>04:55</td>\n      <td>19:41</td>\n      <td>18:38</td>\n    </tr>\n    <tr>\n      <th>4</th>\n      <td>Mon 5 Apr</td>\n      <td>04:53</td>\n      <td>19:43</td>\n      <td>18:37</td>\n    </tr>\n  </tbody>\n</table>\n</div>"
     },
     "metadata": {},
     "execution_count": 5
    }
   ],
   "source": [
    "df = get_london_break_fast_time()\n",
    "df.head()"
   ]
  },
  {
   "cell_type": "code",
   "execution_count": 6,
   "metadata": {},
   "outputs": [],
   "source": [
    "df.to_csv('early-maghrib.csv', index=False)"
   ]
  },
  {
   "cell_type": "code",
   "execution_count": null,
   "metadata": {},
   "outputs": [],
   "source": []
  }
 ]
}