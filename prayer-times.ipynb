{
 "metadata": {
  "language_info": {
   "codemirror_mode": {
    "name": "ipython",
    "version": 3
   },
   "file_extension": ".py",
   "mimetype": "text/x-python",
   "name": "python",
   "nbconvert_exporter": "python",
   "pygments_lexer": "ipython3",
   "version": "3.9.0-final"
  },
  "orig_nbformat": 2,
  "kernelspec": {
   "name": "python390jvsc74a57bd07812ea015bdcee6f23a998adcdd2ef97c151c0c241b7b7070987d9313e41299d",
   "display_name": "Python 3.9.0 64-bit"
  },
  "metadata": {
   "interpreter": {
    "hash": "7812ea015bdcee6f23a998adcdd2ef97c151c0c241b7b7070987d9313e41299d"
   }
  }
 },
 "nbformat": 4,
 "nbformat_minor": 2,
 "cells": [
  {
   "cell_type": "code",
   "execution_count": 1,
   "metadata": {},
   "outputs": [],
   "source": [
    "from helpers import get_prayer_time, get_london_break_fast_time"
   ]
  },
  {
   "cell_type": "code",
   "execution_count": 5,
   "metadata": {},
   "outputs": [
    {
     "output_type": "execute_result",
     "data": {
      "text/plain": [
       "        date  subuh maghrib break (early)\n",
       "0  Thu 1 Apr  05:02   19:36         18:41\n",
       "1  Fri 2 Apr  05:00   19:38         18:40\n",
       "2  Sat 3 Apr  04:57   19:40         18:39\n",
       "3  Sun 4 Apr  04:55   19:41         18:38\n",
       "4  Mon 5 Apr  04:53   19:43         18:37"
      ],
      "text/html": "<div>\n<style scoped>\n    .dataframe tbody tr th:only-of-type {\n        vertical-align: middle;\n    }\n\n    .dataframe tbody tr th {\n        vertical-align: top;\n    }\n\n    .dataframe thead th {\n        text-align: right;\n    }\n</style>\n<table border=\"1\" class=\"dataframe\">\n  <thead>\n    <tr style=\"text-align: right;\">\n      <th></th>\n      <th>date</th>\n      <th>subuh</th>\n      <th>maghrib</th>\n      <th>break (early)</th>\n    </tr>\n  </thead>\n  <tbody>\n    <tr>\n      <th>0</th>\n      <td>Thu 1 Apr</td>\n      <td>05:02</td>\n      <td>19:36</td>\n      <td>18:41</td>\n    </tr>\n    <tr>\n      <th>1</th>\n      <td>Fri 2 Apr</td>\n      <td>05:00</td>\n      <td>19:38</td>\n      <td>18:40</td>\n    </tr>\n    <tr>\n      <th>2</th>\n      <td>Sat 3 Apr</td>\n      <td>04:57</td>\n      <td>19:40</td>\n      <td>18:39</td>\n    </tr>\n    <tr>\n      <th>3</th>\n      <td>Sun 4 Apr</td>\n      <td>04:55</td>\n      <td>19:41</td>\n      <td>18:38</td>\n    </tr>\n    <tr>\n      <th>4</th>\n      <td>Mon 5 Apr</td>\n      <td>04:53</td>\n      <td>19:43</td>\n      <td>18:37</td>\n    </tr>\n  </tbody>\n</table>\n</div>"
     },
     "metadata": {},
     "execution_count": 5
    }
   ],
   "source": [
    "df = get_london_break_fast_time()\n",
    "df.head()"
   ]
  },
  {
   "cell_type": "code",
   "execution_count": 6,
   "metadata": {},
   "outputs": [],
   "source": [
    "df.to_csv('early-maghrib.csv', index=False)"
   ]
  },
  {
   "cell_type": "code",
   "execution_count": 14,
   "metadata": {},
   "outputs": [],
   "source": [
    "from datetime import datetime\n",
    "import pandas as pd\n",
    "import requests\n",
    "from bs4 import BeautifulSoup\n",
    "\n",
    "MECCA_URL = 'https://www.muslimpro.com/en/find?country_code=SA&country_name=Saudi%20Arabia&city_name=Mecca&coordinates=21.3890824,39.8579118'\n",
    "LONDON_URL = 'https://www.muslimpro.com/en/find?country_code=GB&country_name=United%20Kingdom&city_name=London&coordinates=51.5073509,-0.1277583'\n",
    "\n",
    "def get_london_break_fast_time():\n",
    "    mecca_df = get_prayer_time(MECCA_URL)\n",
    "    london_df = get_prayer_time(LONDON_URL)\n",
    "\n",
    "    mecca_fasting_diff = (mecca_df.maghrib.apply(pd.Timestamp) \n",
    "                          - mecca_df.subuh.apply(pd.Timestamp))\n",
    "\n",
    "    early_break_fast_time = (london_df.subuh.apply(pd.Timestamp) \n",
    "                             + mecca_fasting_diff)\n",
    "    early_break_fast_time = [datetime.strftime(time, '%H:%M') \n",
    "                             for time in early_break_fast_time]\n",
    "    \n",
    "    london_df['break (early)'] = early_break_fast_time\n",
    "    return london_df\n",
    "\n",
    "def get_prayer_time(url):\n",
    "    page = requests.get(url)\n",
    "    soup = BeautifulSoup(page.text, 'lxml')\n",
    "    \n",
    "    table = soup.find('table', {'class': 'prayer-times'})\n",
    "    table_content = table.find_all('tr')\n",
    "    table_content = table_content[1:]\n",
    "    \n",
    "    dates = []\n",
    "    subuhs = []\n",
    "    maghribs = []\n",
    "\n",
    "    today = datetime.today().day - 1\n",
    "\n",
    "    for idx, row in enumerate(table_content):\n",
    "        if idx < today:\n",
    "            continue\n",
    "\n",
    "        row_content = row.find_all('td')\n",
    "\n",
    "        # Get date of the day\n",
    "        date = process_text_data(row_content, 0)\n",
    "        # date = date + ' 2021'\n",
    "        # date = datetime.strptime(date, '%a %d %b %Y')\n",
    "        dates.append(date)\n",
    "        \n",
    "        # Subuh prayer time\n",
    "        subuh = process_text_data(row_content, 1)\n",
    "        subuhs.append(subuh)\n",
    "        \n",
    "        # Maghrib prayer time\n",
    "        maghrib = process_text_data(row_content, 5)\n",
    "        maghribs.append(maghrib)\n",
    "        \n",
    "    df = pd.DataFrame(dict(date=dates, subuh=subuhs, maghrib=maghribs))\n",
    "    return df\n",
    "\n",
    "def process_text_data(content, for_col):\n",
    "    res = content[for_col].find(text=True)\n",
    "    res = str(res)\n",
    "    return res"
   ]
  },
  {
   "cell_type": "code",
   "execution_count": 15,
   "metadata": {},
   "outputs": [
    {
     "output_type": "execute_result",
     "data": {
      "text/plain": [
       "          date  subuh maghrib break (early)\n",
       "0   Wed 14 Apr  04:33   19:58         18:29\n",
       "1   Thu 15 Apr  04:31   20:00         18:27\n",
       "2   Fri 16 Apr  04:29   20:01         18:28\n",
       "3   Sat 17 Apr  04:26   20:03         18:26\n",
       "4   Sun 18 Apr  04:23   20:05         18:25\n",
       "5   Mon 19 Apr  04:21   20:06         18:24\n",
       "6   Tue 20 Apr  04:19   20:08         18:23\n",
       "7   Wed 21 Apr  04:16   20:10         18:22\n",
       "8   Thu 22 Apr  04:14   20:11         18:21\n",
       "9   Fri 23 Apr  04:12   20:13         18:21\n",
       "10  Sat 24 Apr  04:09   20:15         18:19\n",
       "11  Sun 25 Apr  04:07   20:16         18:17\n",
       "12  Mon 26 Apr  04:05   20:18         18:17\n",
       "13  Tue 27 Apr  04:02   20:20         18:15\n",
       "14  Wed 28 Apr  04:00   20:21         18:14\n",
       "15  Thu 29 Apr  03:58   20:23         18:14\n",
       "16  Fri 30 Apr  03:55   20:25         18:12"
      ],
      "text/html": "<div>\n<style scoped>\n    .dataframe tbody tr th:only-of-type {\n        vertical-align: middle;\n    }\n\n    .dataframe tbody tr th {\n        vertical-align: top;\n    }\n\n    .dataframe thead th {\n        text-align: right;\n    }\n</style>\n<table border=\"1\" class=\"dataframe\">\n  <thead>\n    <tr style=\"text-align: right;\">\n      <th></th>\n      <th>date</th>\n      <th>subuh</th>\n      <th>maghrib</th>\n      <th>break (early)</th>\n    </tr>\n  </thead>\n  <tbody>\n    <tr>\n      <th>0</th>\n      <td>Wed 14 Apr</td>\n      <td>04:33</td>\n      <td>19:58</td>\n      <td>18:29</td>\n    </tr>\n    <tr>\n      <th>1</th>\n      <td>Thu 15 Apr</td>\n      <td>04:31</td>\n      <td>20:00</td>\n      <td>18:27</td>\n    </tr>\n    <tr>\n      <th>2</th>\n      <td>Fri 16 Apr</td>\n      <td>04:29</td>\n      <td>20:01</td>\n      <td>18:28</td>\n    </tr>\n    <tr>\n      <th>3</th>\n      <td>Sat 17 Apr</td>\n      <td>04:26</td>\n      <td>20:03</td>\n      <td>18:26</td>\n    </tr>\n    <tr>\n      <th>4</th>\n      <td>Sun 18 Apr</td>\n      <td>04:23</td>\n      <td>20:05</td>\n      <td>18:25</td>\n    </tr>\n    <tr>\n      <th>5</th>\n      <td>Mon 19 Apr</td>\n      <td>04:21</td>\n      <td>20:06</td>\n      <td>18:24</td>\n    </tr>\n    <tr>\n      <th>6</th>\n      <td>Tue 20 Apr</td>\n      <td>04:19</td>\n      <td>20:08</td>\n      <td>18:23</td>\n    </tr>\n    <tr>\n      <th>7</th>\n      <td>Wed 21 Apr</td>\n      <td>04:16</td>\n      <td>20:10</td>\n      <td>18:22</td>\n    </tr>\n    <tr>\n      <th>8</th>\n      <td>Thu 22 Apr</td>\n      <td>04:14</td>\n      <td>20:11</td>\n      <td>18:21</td>\n    </tr>\n    <tr>\n      <th>9</th>\n      <td>Fri 23 Apr</td>\n      <td>04:12</td>\n      <td>20:13</td>\n      <td>18:21</td>\n    </tr>\n    <tr>\n      <th>10</th>\n      <td>Sat 24 Apr</td>\n      <td>04:09</td>\n      <td>20:15</td>\n      <td>18:19</td>\n    </tr>\n    <tr>\n      <th>11</th>\n      <td>Sun 25 Apr</td>\n      <td>04:07</td>\n      <td>20:16</td>\n      <td>18:17</td>\n    </tr>\n    <tr>\n      <th>12</th>\n      <td>Mon 26 Apr</td>\n      <td>04:05</td>\n      <td>20:18</td>\n      <td>18:17</td>\n    </tr>\n    <tr>\n      <th>13</th>\n      <td>Tue 27 Apr</td>\n      <td>04:02</td>\n      <td>20:20</td>\n      <td>18:15</td>\n    </tr>\n    <tr>\n      <th>14</th>\n      <td>Wed 28 Apr</td>\n      <td>04:00</td>\n      <td>20:21</td>\n      <td>18:14</td>\n    </tr>\n    <tr>\n      <th>15</th>\n      <td>Thu 29 Apr</td>\n      <td>03:58</td>\n      <td>20:23</td>\n      <td>18:14</td>\n    </tr>\n    <tr>\n      <th>16</th>\n      <td>Fri 30 Apr</td>\n      <td>03:55</td>\n      <td>20:25</td>\n      <td>18:12</td>\n    </tr>\n  </tbody>\n</table>\n</div>"
     },
     "metadata": {},
     "execution_count": 15
    }
   ],
   "source": [
    "get_london_break_fast_time()"
   ]
  }
 ]
}